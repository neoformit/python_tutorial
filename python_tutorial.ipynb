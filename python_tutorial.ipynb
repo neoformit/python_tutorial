{
  "nbformat": 4,
  "nbformat_minor": 0,
  "metadata": {
    "colab": {
      "name": "python_tutorial.ipynb",
      "provenance": []
    },
    "kernelspec": {
      "name": "python3",
      "display_name": "Python 3"
    },
    "language_info": {
      "name": "python"
    }
  },
  "cells": [
    {
      "cell_type": "markdown",
      "metadata": {
        "id": "emOvK3IcfnUn"
      },
      "source": [
        "# Basic Python syntax\n",
        "------\n",
        "<br>\n",
        "\n",
        "**Some important things to remember about Python syntax**\n",
        "\n",
        "- Spaces matter!\n",
        "  Python logic is denoted by tab-indentation. The spaces at the start of the\n",
        "  line tell Python where an expression ends. You will come across this later,\n",
        "  so don't worry about it for now!\n",
        "\n",
        "- New lines matter!\n",
        "  If you want to write an expression over multiple lines, there are specific\n",
        "  ways to accomplish that!\n",
        "\n",
        "<br>\n",
        "\n",
        "> Press ctrl+enter to run a code cell and see what the output is\n",
        "\n",
        "> Start a line with \"#\" to make a comment\n",
        "\n",
        "<br>"
      ]
    },
    {
      "cell_type": "markdown",
      "metadata": {
        "id": "erKRD9e-j55R"
      },
      "source": [
        "## Variables\n",
        "\n",
        "Variables are basically just \"names\" that you give things.\n",
        "More accurately, they provide a reference to objects that have been created, so\n",
        "that they can be referenced later. We use the \"=\" operator to assign variable\n",
        "names to objects - easy as pie!\n",
        "\n",
        "<br>"
      ]
    },
    {
      "cell_type": "code",
      "metadata": {
        "id": "FXLWgHpHcKUC"
      },
      "source": [
        "# Create a new string (text) variable and print it out\n",
        "sometext = \"Hello world\"\n",
        "print(sometext)\n",
        "\n",
        "# Print a blank line\n",
        "print()"
      ],
      "execution_count": null,
      "outputs": []
    },
    {
      "cell_type": "markdown",
      "metadata": {
        "id": "zRZqmgoSgJ93"
      },
      "source": [
        "<br>\n",
        "\n",
        "## Functions\n",
        "\n",
        "> You just used a function!\n",
        "\n",
        "Python has a number of built-in functions - `print()` is used very frequently.\n",
        "Whenever we want Python to tell us what's going on, you can ask it to `print()`\n",
        "objects. Python will otherwise run very quietly until it hits an error!\n",
        "\n",
        "When \"calling\" a function, you can often pass \"arguments\" that will be used by the function:\n",
        "\n",
        "<br>\n",
        "\n",
        "`func(argument1, argument2, argument3)`\n",
        "\n",
        "<br>\n",
        "\n",
        "- Not sure what arguments a Python function takes? Google it! Google is your friend when learning to code.\n",
        "- For a quick reference you can also use the builtin `help()` on any Python object:\n",
        "\n",
        "<br><br>"
      ]
    },
    {
      "cell_type": "code",
      "metadata": {
        "id": "flJqxLljgCnM"
      },
      "source": [
        "# Tell us about the the print() function\n",
        "help(print)"
      ],
      "execution_count": null,
      "outputs": []
    },
    {
      "cell_type": "markdown",
      "metadata": {
        "id": "BH6X5iFtX3cG"
      },
      "source": [
        "<br>\n",
        "\n",
        "As you can see, `print()` takes quite a few arguments, but most of the time a simple `print(value)` is enough to meet our needs.\n",
        "\n",
        "<br>\n",
        "\n",
        "A more complex call to `print()` might look like this:\n",
        "\n",
        "<br>"
      ]
    },
    {
      "cell_type": "code",
      "metadata": {
        "colab": {
          "base_uri": "https://localhost:8080/"
        },
        "id": "A0MzrH0SX9Lj",
        "outputId": "13c13b51-80dc-4e89-dfc6-cd294fbbfd71"
      },
      "source": [
        "# Print something more complex\n",
        "print(\"A sentence\", \"to print over\", \"multiple lines\", sep='\\n')"
      ],
      "execution_count": null,
      "outputs": [
        {
          "output_type": "stream",
          "text": [
            "A sentence\n",
            "to print over\n",
            "multiple lines\n"
          ],
          "name": "stdout"
        }
      ]
    },
    {
      "cell_type": "markdown",
      "metadata": {
        "id": "wD7nWPLUiFXi"
      },
      "source": [
        "<br>\n",
        "\n",
        "## A tiny challenge\n",
        "\n",
        "> Create and `print()` some String (text) variables in the cell below:"
      ]
    },
    {
      "cell_type": "code",
      "metadata": {
        "id": "I3xki6YgTtxJ"
      },
      "source": [
        ""
      ],
      "execution_count": null,
      "outputs": []
    },
    {
      "cell_type": "markdown",
      "metadata": {
        "id": "FCTbVY_1jvxR"
      },
      "source": [
        "<br><br><br>\n",
        "\n",
        "# Data types - scalar\n",
        "------\n",
        "\n",
        "<br>\n",
        "\n",
        "Python has a small variety of built-in data types to get you started - think\n",
        "of them as the building blocks for data. You can use them to create structure - making it far easier to handle, store and manipulate your data in intelligent ways.\n",
        "\n",
        "There are three super-simple scalar types you need to know:\n",
        "\n",
        "<br>\n",
        "\n",
        "- **String** (text):\n",
        "  \n",
        "  `x = \"Some text to remember\"`\n",
        "- **Integer** (number):\n",
        "\n",
        "  `x = 5`\n",
        "- **Float** (number):\n",
        "\n",
        "  `x = 5.458`\n",
        "\n",
        "<br>"
      ]
    },
    {
      "cell_type": "markdown",
      "metadata": {
        "id": "SLY4Uu4eoNX5"
      },
      "source": [
        "<br>\n",
        "\n",
        "## Strings - text objects\n",
        "\n",
        "<br>\n",
        "\n",
        "> You've already created some Strings!\n",
        "\n",
        "<br>\n",
        "\n",
        "Strings are Python objects that represent some kind of text (i.e. a *String* of\n",
        "characters). They can be defined in a number of ways.\n",
        "\n",
        "<br>"
      ]
    },
    {
      "cell_type": "code",
      "metadata": {
        "colab": {
          "base_uri": "https://localhost:8080/"
        },
        "id": "vbWxW1cvnKwf",
        "outputId": "0efa6ee8-b95b-4eeb-a825-bdc38d3bae32"
      },
      "source": [
        "# Let's play with some Strings\n",
        "\n",
        "a = 'frog'       # Normally, single and double quotes are used to create Strings\n",
        "b = \"snake\"\n",
        "c = \"\"\"turkey\"\"\" # You can use triple-quotes for more complex Strings\n",
        "\n",
        "# These three methods return a String in exactly the same way - they are not\n",
        "# different types of String, only different syntax for declaring them.\n",
        "# It can be useful to have options when defining awkward, long Strings:\n",
        "\n",
        "complex_string = \"\"\"This String has multiple lines.\n",
        "This is the second line.\n",
        "This line has \"quotes\" that would 'normally' mess up our String syntax.\n",
        "But triple quotes make this easy to write!\n",
        "\"\"\"\n",
        "\n",
        "# Python has some neat syntax for \"concatenating\" variables to Strings\n",
        "# (Concatenate: stick them together)\n",
        "\n",
        "# You can \"add\" Strings together:\n",
        "print(b + \" eats \" + a)\n",
        "\n",
        "# F-Strings are a super useful for \"pasting\" variables into a String:\n",
        "print(f\"{c}s eat {b}s and {a}s\")\n"
      ],
      "execution_count": null,
      "outputs": [
        {
          "output_type": "stream",
          "text": [
            "snake eats frog\n",
            "turkeys eat snakes and frogs\n"
          ],
          "name": "stdout"
        }
      ]
    },
    {
      "cell_type": "code",
      "metadata": {
        "colab": {
          "base_uri": "https://localhost:8080/"
        },
        "id": "JXD0Ie4qogGF",
        "outputId": "8301506c-084a-48ab-cc0e-4dba9a8331a2"
      },
      "source": [
        "# We already created a String that contains multiple lines:\n",
        "print(complex_string)\n",
        "\n",
        "# New lines can also be written as \"regular\" characters in Strings.\n",
        "# They are defined as \"\\n\"\n",
        "lines = \"Line 1\\nLine 2\\nLine3 \"\n",
        "print(\"A String with newlines:\")\n",
        "print(lines)\n"
      ],
      "execution_count": null,
      "outputs": [
        {
          "output_type": "stream",
          "text": [
            "This String has multiple lines.\n",
            "This is the second line.\n",
            "This line has \"quotes\" that would 'normally' mess up our String syntax.\n",
            "But triple quotes make this easy to write!\n",
            "\n",
            "String with newlines:\n",
            "Line 1\n",
            "Line 2\n",
            "Line3 \n"
          ],
          "name": "stdout"
        }
      ]
    },
    {
      "cell_type": "code",
      "metadata": {
        "colab": {
          "base_uri": "https://localhost:8080/"
        },
        "id": "TAyubDFdpldm",
        "outputId": "13fe062d-9433-4ca7-cb98-0baf9a5d3731"
      },
      "source": [
        "# We can use a builtin function to find the length of a String:\n",
        "c_length = len(c)\n",
        "print(f'The word \"{c}\" has a length of {c_length} characters!')\n",
        "\n",
        "# We can access specific characters in a String:\n",
        "# !!! Objects in Python are usually zero-indexed! (Numbering starts at 0)\n",
        "print(\"The first letter of c:         \", c[0])\n",
        "print(\"The second letter of c:        \", c[1])\n",
        "print(\"The last letter of c:          \", c[-1])\n",
        "\n",
        "# We can use \"slices\" to cut out specific parts of a String:\n",
        "print(\"From the first letter of c:    \", c[1:])\n",
        "print(\"The middle letters of c:       \", c[1:-1])\n"
      ],
      "execution_count": null,
      "outputs": [
        {
          "output_type": "stream",
          "text": [
            "The word \"turkey\" has a length of 6 characters!\n",
            "The first letter of c:          t\n",
            "The second letter of c:         u\n",
            "The last letter of c:           y\n",
            "From the first letter of c:     urkey\n",
            "The middle letters of c:        urke\n"
          ],
          "name": "stdout"
        }
      ]
    },
    {
      "cell_type": "markdown",
      "metadata": {
        "id": "BDRZWsIsp-Hq"
      },
      "source": [
        "<br>\n",
        "\n",
        "## Integers and floats - numbers\n",
        "\n",
        "<br>\n",
        "\n",
        "> Pretty straight forward... they are just numbers!\n",
        "\n",
        "<br>\n",
        "\n",
        "In Python, you can define and operate on numbers in very familiar ways.\n",
        "\n",
        "<br>"
      ]
    },
    {
      "cell_type": "code",
      "metadata": {
        "colab": {
          "base_uri": "https://localhost:8080/"
        },
        "id": "28MOgMREqbYO",
        "outputId": "774b3021-f913-44d2-9452-cbf58b2a9414"
      },
      "source": [
        "# Let's play with some numbers\n",
        "x = 53          # An integer\n",
        "y = 53.78       # A float (floating-point number, i.e. decimal)\n",
        "\n",
        "# The usual operators apply:\n",
        "i = x / y       # divide\n",
        "j = x * y       # multiply\n",
        "k = x ** y      # power\n",
        "\n",
        "# We can use F-Strings to print these results nicely:\n",
        "print(f\"x / y  = {i}\")\n",
        "print(f\"x * y  = {j}\")\n",
        "print(f\"x ** y = {k}\")\n"
      ],
      "execution_count": null,
      "outputs": [
        {
          "output_type": "stream",
          "text": [
            "x / y  = 0.9854964670881369\n",
            "x * y  = 2850.34\n",
            "x ** y = 5.389596683869612e+92\n"
          ],
          "name": "stdout"
        }
      ]
    },
    {
      "cell_type": "code",
      "metadata": {
        "id": "oiABSP8iqtRb"
      },
      "source": [
        "# We can convert Strings to numbers and back, if Python allows:\n",
        "x_string = \"123\"\n",
        "x_int = int(x_string)\n",
        "x_float = float(x_string)\n",
        "\n",
        "y = 32.543234539454\n",
        "print(f\"y = {y}\")\n",
        "\n",
        "# You can round floats down to an integer:\n",
        "y_int = int(y)\n",
        "print(f\"y_int = {y_int}\")\n",
        "\n",
        "# You can also round them to decimal places with the round() builtin,\n",
        "# where the second argument is the number of decimal places:\n",
        "decimal_places = 3\n",
        "y_rounded = round(y, decimal_places)\n",
        "print(f\"y_rounded = {y_rounded}\")"
      ],
      "execution_count": null,
      "outputs": []
    },
    {
      "cell_type": "code",
      "metadata": {
        "id": "ZTiX8dKwq91T"
      },
      "source": [
        "# Asking for the length of a number doesn't make sense. Python will complain\n",
        "# when we do this!\n",
        "len(5)"
      ],
      "execution_count": null,
      "outputs": []
    },
    {
      "cell_type": "code",
      "metadata": {
        "id": "-yQqSUqZtlsw"
      },
      "source": [
        "# If Python gives you an error, your code probably doesn't make sense!\n",
        "print(5 + \"apple\")"
      ],
      "execution_count": null,
      "outputs": []
    },
    {
      "cell_type": "markdown",
      "metadata": {
        "id": "rZdTHKL7kNVl"
      },
      "source": [
        "<br><br><br>\n",
        "\n",
        "# Data types - containers\n",
        "------\n",
        "\n",
        "<br>\n",
        "\n",
        "To create some order to our data, we need to store our scalar data objects in some kind of container. Python has a few handy container types, but you can get almost everything done with just two:\n",
        "\n",
        "<br>\n",
        "\n",
        "- **Lists** - an ordered array of objects\n",
        "- **Dictionaries** - a disordered, indexed array of objects\n",
        "\n",
        "<br>\n",
        "\n",
        "There is nothing scary about these - I promise!\n",
        "\n",
        "<br>"
      ]
    },
    {
      "cell_type": "markdown",
      "metadata": {
        "id": "3zYPtgDCr_ey"
      },
      "source": [
        "## Lists - an ordered array\n",
        "\n",
        "<br>\n",
        "\n",
        "Lists allow us to store any number of objects in a linear list. We can then pull items out by their position (first, last, third, etc...).\n",
        "\n",
        "<br>"
      ]
    },
    {
      "cell_type": "code",
      "metadata": {
        "id": "BindEvuYseJL",
        "colab": {
          "base_uri": "https://localhost:8080/"
        },
        "outputId": "b08cab9b-cbc9-4735-fe9e-2650ac94bafc"
      },
      "source": [
        "# Create a new, empty list\n",
        "ls = []\n",
        "\n",
        "# Create a list with a mix of integers and Strings\n",
        "a = [3, 4, 5, 'plane', 'gecko', 'taxi']\n",
        "print(\"Our new list:\", a)\n",
        "\n",
        "# Recall items from the list\n",
        "print(\"The first item in the list:         \", a[0])\n",
        "print(\"The second item in the list:        \", a[1])\n",
        "print(\"The third item in the list:         \", a[2])\n",
        "print(\"The last item in the list:          \", a[-1])\n",
        "print(\"The second-last item in the list:   \", a[-2])\n",
        "\n",
        "# We can use slicing on lists, just like we did with Strings:\n",
        "print(\"Three middle items in the list:       \", a[2:5])\n"
      ],
      "execution_count": null,
      "outputs": [
        {
          "output_type": "stream",
          "text": [
            "Our new list: [3, 4, 5, 'plane', 'gecko', 'taxi']\n",
            "The first item in the list:          3\n",
            "The second item in the list:         4\n",
            "The third item in the list:          5\n",
            "The last item in the list:           taxi\n",
            "The second-last item in the list:    gecko\n",
            "Three middle items in the list:        [5, 'plane', 'gecko']\n"
          ],
          "name": "stdout"
        }
      ]
    },
    {
      "cell_type": "code",
      "metadata": {
        "id": "YTyOegdTtVkk",
        "colab": {
          "base_uri": "https://localhost:8080/"
        },
        "outputId": "7d304bdd-642c-434b-b11b-81717160a83f"
      },
      "source": [
        "# Manipulating our lists\n",
        "\n",
        "# You can concatenate lists by \"adding\" them together:\n",
        "b = [57.546, 'sandwich']\n",
        "c = a + b\n",
        "print(\"a + b = \", c)\n",
        "print()\n",
        "\n",
        "# You can put anything you want in a list. Even other lists!\n",
        "# We can use multi-line syntax to accomplish this neatly:\n",
        "list_3d = [\n",
        "    [a, b, c],\n",
        "    ['a', 'new', 'list'],\n",
        "]\n",
        "print(\"A big, three-dimensional list:\")\n",
        "print(list_3d)\n",
        "print()\n",
        "\n",
        "# We can use \"deep\" indexing to pull list \"c\" back out and print it:\n",
        "print(\"List 'c' pulled out of 'list_3d':\")\n",
        "print(list_3d[0][2])\n"
      ],
      "execution_count": null,
      "outputs": [
        {
          "output_type": "stream",
          "text": [
            "a + b =  [3, 4, 5, 'plane', 'gecko', 'taxi', 57.546, 'sandwich']\n",
            "\n",
            "A big, three-dimensional list:\n",
            "[[[3, 4, 5, 'plane', 'gecko', 'taxi'], [57.546, 'sandwich'], [3, 4, 5, 'plane', 'gecko', 'taxi', 57.546, 'sandwich']], ['a', 'new', 'list']]\n",
            "\n",
            "List 'c' pulled out of 'list_3d':\n",
            "[3, 4, 5, 'plane', 'gecko', 'taxi', 57.546, 'sandwich']\n"
          ],
          "name": "stdout"
        }
      ]
    },
    {
      "cell_type": "markdown",
      "metadata": {
        "id": "bR0GXKqbt7Ex"
      },
      "source": [
        "<br>\n",
        "\n",
        "## Dictionaries - an indexed array\n",
        "\n",
        "<br>\n",
        "\n",
        "> Dictionaries store data as `key: value` pairs\n",
        "\n",
        "<br>\n",
        "\n",
        "Dictionaries are similar to lists, but instead of being indexed by\n",
        "numbers, dictionaries are indexed by an object - often a String.\n",
        "\n",
        "This allows you to \"look up\" the data for that index, like looking up a word\n",
        "in a dictionary! They provide a very organised way to store data.\n",
        "\n",
        "Like lists, *any Python object* can be added to a dictionary.\n",
        "\n",
        "<br>"
      ]
    },
    {
      "cell_type": "code",
      "metadata": {
        "colab": {
          "base_uri": "https://localhost:8080/"
        },
        "id": "SKk9_N89urdq",
        "outputId": "e82574f5-b8ae-47d1-a465-82605e90b2e5"
      },
      "source": [
        "# Create a new, empty dictionary\n",
        "new = {}\n",
        "\n",
        "# A simple dictionary to \"look up\" car speeds:\n",
        "speed_kmh = {\n",
        "    'astra': 135,\n",
        "    'focus': 143,\n",
        "    'civic': 167,\n",
        "}\n",
        "\n",
        "# A dictionary of lists, to \"look up\" car models:\n",
        "models = {\n",
        "    'holden': ['astra', 'colorado', 'commodore'],\n",
        "    'ford': ['focus', 'ranger', 'falcon'],\n",
        "}\n",
        "\n",
        "# Now pull items from the dict by index:\n",
        "print(f\"Max speed of Civic:\", speed_kmh['civic'])\n",
        "print(f\"Models available from ford:\", models['ford'])\n",
        "print()\n",
        "\n",
        "# Add a new key to the dict:\n",
        "models['honda'] = ['jazz', 'civic', 'accord']\n",
        "print(\"Car models after adding Honda:\")\n",
        "print(models)\n"
      ],
      "execution_count": null,
      "outputs": [
        {
          "output_type": "stream",
          "text": [
            "Max speed of Civic: 167\n",
            "Models available from ford: ['focus', 'ranger', 'falcon']\n",
            "\n",
            "Car models after adding Honda:\n",
            "{'holden': ['astra', 'colorado', 'commodore'], 'ford': ['focus', 'ranger', 'falcon'], 'honda': ['jazz', 'civic', 'accord']}\n"
          ],
          "name": "stdout"
        }
      ]
    },
    {
      "cell_type": "markdown",
      "metadata": {
        "id": "9PtQi4i4AbWt"
      },
      "source": [
        "<br>\n",
        "\n",
        "## Structuring data\n",
        "\n",
        "As an example of how Python data structures can be used, take a look at this notebook!\n",
        "\n",
        "- Go the `file` in the menu bar\n",
        "- Click `download` to download this notebook as a `.ipynb` file\n",
        "- Open the file with notepad. You'll see that this entire IPython notebook is stored as a Python dictionary!"
      ]
    },
    {
      "cell_type": "markdown",
      "metadata": {
        "id": "IoVpNrQTwONf"
      },
      "source": [
        "<br>\n",
        "\n",
        "## A tiny challenge\n",
        "\n",
        "<br>\n",
        "\n",
        "\n",
        "> Define a dictionary so we can quickly access these data:\n",
        "\n",
        "<br>\n",
        "\n",
        "```\n",
        "   Tissue       Weight\n",
        "---------------------------\n",
        "    gill         234\n",
        "   muscle        457\n",
        "   eyeball       112\n",
        "    skin         89\n",
        "   kidney        146\n",
        "```\n",
        "\n",
        "<br>"
      ]
    },
    {
      "cell_type": "code",
      "metadata": {
        "id": "oNEdB1dPwg5Q"
      },
      "source": [
        "# Take a look at \"speed_kmh\" if you feel like cheating ^_^\n",
        "weights = {\n",
        "    # add dictionary items here\n",
        "}\n",
        "\n",
        "# Run the cell to test your dictionary works:\n",
        "print(f\"The eyeball weighs {weights['eyeball']} grams\")"
      ],
      "execution_count": null,
      "outputs": []
    },
    {
      "cell_type": "markdown",
      "metadata": {
        "id": "HyMdlrsks6XS"
      },
      "source": [
        "<br>\n",
        "\n",
        "Now imagine that we have a bucket full of fish. How could you store the data above, for all of these fish?"
      ]
    },
    {
      "cell_type": "markdown",
      "metadata": {
        "id": "br8sv4UB29W8"
      },
      "source": [
        "<br><br><br>\n",
        "\n",
        "# Methods\n",
        "---\n",
        "\n",
        "<br>\n",
        "\n",
        "So we now know a few basic data types that we can use to define and\n",
        "structure our data. It's time to start asking questions about our data.\n",
        "\n",
        "Methods are specific functions that are \"bound\" to a specific object type. As such, each of the data types that we have learned (String, Int, List etc.) have their own methods. They allow us to perform useful, routine operations on these objects.\n",
        "\n",
        "<br>\n",
        "\n",
        "This section introduces a few handy methods that are native to Strings and\n",
        "lists."
      ]
    },
    {
      "cell_type": "markdown",
      "metadata": {
        "id": "TFWRqSgHvk3A"
      },
      "source": [
        "<br>\n",
        "\n",
        "## String methods\n",
        "\n",
        "In this block, we demonstrate eight useful methods that can be used on a String\n",
        "object. You can call these methods on ANY String object. Think of them as a set\n",
        "of questions or operations that you might apply to a piece of text."
      ]
    },
    {
      "cell_type": "code",
      "metadata": {
        "id": "N9ITXHBGt1pb"
      },
      "source": [
        "# First, let's create a String to play with\n",
        "x = \"Hi, How are you today?\"\n",
        "print(f\"The String x: '{x}'\\n\")\n",
        "\n",
        "# Now, lets call some methods to answer questions about 'x'\n",
        "print(\"Does x start with 'egg'?\")\n",
        "print(x.startswith('egg'))\n",
        "print()\n",
        "\n",
        "print(\"Does x start with 'Hi'?\")\n",
        "print(x.startswith('Hi'))\n",
        "print()\n",
        "\n",
        "print(\"Does x end with a question mark?\")\n",
        "print(x.endswith('?'))\n",
        "print()\n",
        "\n",
        "print(\"How does x look in lowercase?\")\n",
        "print(x.lower())\n",
        "print()\n",
        "\n",
        "print(\"How does x look in UPPERCASE?\")\n",
        "print(x.upper())\n",
        "print()\n",
        "\n",
        "print(\"Can we replace today with tomorrow?\")\n",
        "print(x.replace('today', 'tomorrow'))\n",
        "print()\n",
        "\n",
        "print(\"Can we break up a String and turn it into a list?\")\n",
        "print(x.split(\" \"))\n",
        "print()\n",
        "\n",
        "print(\"Okay, but can you do the opposite - join a list to make a String?\")\n",
        "ls = ['A', 'broken', 'up', 'sentence']\n",
        "ls_joined = ' '.join(ls)\n",
        "print(ls_joined)"
      ],
      "execution_count": null,
      "outputs": []
    },
    {
      "cell_type": "markdown",
      "metadata": {
        "id": "Dt1jkGRNvyW5"
      },
      "source": [
        "<br>\n",
        "\n",
        "## List methods\n",
        "\n",
        "Now we will introduce four handy methods that can be used to manipulate lists.\n"
      ]
    },
    {
      "cell_type": "code",
      "metadata": {
        "id": "tMFD9qSBwFOM"
      },
      "source": [
        "# Let's create a simple list to play with\n",
        "x = [1, 13, 37, 2, 3]\n",
        "\n",
        "print(\"Can I add an item to the list?\")\n",
        "x.append(43)\n",
        "print(x)\n",
        "print()\n",
        "\n",
        "print(\"Can I remove an item from the list?\")\n",
        "x.remove(13)\n",
        "print(x)\n",
        "print()\n",
        "\n",
        "print(\"Can you reverse the order of the list?\")\n",
        "x.reverse()\n",
        "print(x)\n",
        "print()\n",
        "\n",
        "print(\"Can you sort the list by values?\")\n",
        "x.sort()\n",
        "print(x)"
      ],
      "execution_count": null,
      "outputs": []
    },
    {
      "cell_type": "markdown",
      "metadata": {
        "id": "oSahAn1pw0Ym"
      },
      "source": [
        "<br>\n",
        "\n",
        "You may have notice something a bit different in the syntax here. These methods operate on the object *in place*. So in order to see the result, we have to call the method, and then print out the object:\n",
        "\n",
        "```python\n",
        "x.sort()\n",
        "print(x)\n",
        "```\n",
        "\n",
        "String methods work differently. They return a new object when they are called, leaving the original object unchanged:\n"
      ]
    },
    {
      "cell_type": "code",
      "metadata": {
        "id": "J_sx16tRxbIE"
      },
      "source": [
        "x = \"some words\"\n",
        "x.upper()\n",
        "print(x)  # See, x is unchanged!\n",
        "\n",
        "y = x.upper()\n",
        "print(y)  # a new String has been created"
      ],
      "execution_count": null,
      "outputs": []
    },
    {
      "cell_type": "markdown",
      "metadata": {
        "id": "_3tzPGpBxwdy"
      },
      "source": [
        "This points to an important characteristic of these types:\n",
        "\n",
        "- Strings are immutable - they *can't* be modified after creation\n",
        "- Lists are mutable - they *can* be modified at any time\n",
        "\n",
        "So, when a method is called, it can either operate on the object in-place (as with lists), or it can return a new object, leaving the subject unchanged (as with strings).\n",
        "\n",
        "This is fairly simple paradigm can cause some really silly bugs in your code if you don't understand what's happening!"
      ]
    },
    {
      "cell_type": "markdown",
      "metadata": {
        "id": "DcsttRgny_NW"
      },
      "source": [
        "## A tiny challenge\n",
        "\n",
        "Below is a list of filenames - some data files that will be processed and output as `csv` files.\n",
        "\n",
        "Can you fetch the third filename and **replace** the filename extension\n",
        "with `.csv`?"
      ]
    },
    {
      "cell_type": "code",
      "metadata": {
        "id": "NIT9jqrizWDi"
      },
      "source": [
        "filenames = [\n",
        "    \"data_1.txt\",\n",
        "    \"data_2.txt\",\n",
        "    \"data_3.txt\",\n",
        "    \"data_4.txt\",\n",
        "    \"data_5.txt\",\n",
        "]\n",
        "\n",
        "# Fetch the third file name\n",
        "\n",
        "# Replace the extension to create an output filename\n"
      ],
      "execution_count": null,
      "outputs": []
    },
    {
      "cell_type": "markdown",
      "metadata": {
        "id": "SIpNYKC63Dkw"
      },
      "source": [
        "<br><br><br>\n",
        "\n",
        "# Logic\n",
        "---\n",
        "\n",
        "<br>\n",
        "\n",
        "So, we can now create Python data structures and perform basic operations on them.\n",
        "\n",
        "In order to start manipulating these data, we just need to sprinkle in some\n",
        "Python logic! Expression of logic is the essence of programming."
      ]
    },
    {
      "cell_type": "markdown",
      "metadata": {
        "id": "zkWJCjbwz4tt"
      },
      "source": [
        "<br>\n",
        "\n",
        "## Comparisons\n",
        "\n",
        "A comparison allows us to ask questions about a specific object.\n",
        "It is a \"statement\" that Python can evaluate, returning a True / False (boolean) response."
      ]
    },
    {
      "cell_type": "code",
      "metadata": {
        "id": "J-YPAxCs0msd"
      },
      "source": [
        "# Define a String to play with\n",
        "x = \"hello\"\n",
        "\n",
        "print('Is x the String \"Hello\"?')\n",
        "print(x == \"Hello\")\n",
        "print()\n",
        "\n",
        "print('Of course... Python is case-sensitive! So is it \"hello\"?')\n",
        "print(x == \"hello\")\n",
        "print()\n",
        "\n",
        "print('So obviously x is not \"goodbye\"?')\n",
        "print(x != \"goodbye\")\n",
        "print()\n",
        "\n",
        "print(\"Does x have a 'll' in it?\")\n",
        "print('ll' in x)\n",
        "print()\n",
        "\n",
        "# Define an int to play with\n",
        "y = 12\n",
        "\n",
        "print(\"Is y smaller than 6?\")\n",
        "print(y < 6)\n",
        "print()\n",
        "\n",
        "print(\"Is y smaller than 16?\")\n",
        "print(y < 16)\n",
        "print()\n",
        "\n",
        "print(\"So y is greater than 6, and also less than 16?\")\n",
        "print(y > 6 and y < 16)"
      ],
      "execution_count": null,
      "outputs": []
    },
    {
      "cell_type": "markdown",
      "metadata": {
        "id": "tXolPt2B1CoN"
      },
      "source": [
        "<br>\n",
        "\n",
        "## Conditionals - `if`/`else`\n",
        "\n",
        "This is the fundamental logic of programming! It enables decision-making during code execution.\n",
        "\n",
        "Pass a comparison to an `if` statement. If it evaluates to `True`, Python will\n",
        "run that block of code. If `False`, it will skip that block of code and\n",
        "continue. If the `if` block is followed by an `else` block, it will execute \n",
        "that block only if the `if` block turns out to be `True`.\n",
        "\n",
        "```python\n",
        "# Examples of \"truthy\" values:\n",
        "True, 1, 12, \"hi\", [1,2,3], {\"key\": \"value\"}\n",
        "\n",
        "# Examples of \"falsey\" values:\n",
        "None, 0, \"\", [], {}\n",
        "```"
      ]
    },
    {
      "cell_type": "code",
      "metadata": {
        "colab": {
          "base_uri": "https://localhost:8080/"
        },
        "id": "jQzbvvKI2DaI",
        "outputId": "d99fffa3-be5f-4f78-b9e1-112a65d16914"
      },
      "source": [
        "# Create some variables to play with\n",
        "x = \"hello\"\n",
        "y = 12\n",
        "\n",
        "\"\"\"\n",
        "!!! Take note of the indentation here! In Python, blocks of code are defined\n",
        "by indentation. This tells Python which code to run when the \"if\" statement\n",
        "is Truthy.\n",
        "\"\"\"\n",
        "\n",
        "if x == \"hello\":\n",
        "    print(\"x is 'hello'!\")\n",
        "else:\n",
        "    print(\"x is something else?\")\n",
        "\n",
        "if x:\n",
        "    print(f\"'{x}' is Truthy!\")"
      ],
      "execution_count": null,
      "outputs": [
        {
          "output_type": "stream",
          "text": [
            "x is 'hello'!\n",
            "'hello' is Truthy!\n"
          ],
          "name": "stdout"
        }
      ]
    },
    {
      "cell_type": "code",
      "metadata": {
        "colab": {
          "base_uri": "https://localhost:8080/"
        },
        "id": "GY9nrKkX2kQl",
        "outputId": "52050643-51f7-455f-a4fb-dd1270fbf313"
      },
      "source": [
        "# We can also use the \"elif\" operator to make a series of tests\n",
        "a = 10\n",
        "b = 12\n",
        "\n",
        "if y > a:\n",
        "    print(\"y is bigger than a\")\n",
        "elif y > b:\n",
        "    print(\"y is bigger than b\")\n",
        "else:\n",
        "    print(f\"{y} is smaller than both {a} and {b}\")"
      ],
      "execution_count": null,
      "outputs": [
        {
          "output_type": "stream",
          "text": [
            "y is bigger than a\n"
          ],
          "name": "stdout"
        }
      ]
    },
    {
      "cell_type": "markdown",
      "metadata": {
        "id": "iu2Dxt-V3A-1"
      },
      "source": [
        "<br>\n",
        "\n",
        "## For loops\n",
        "\n",
        "Loops allow you to run a block of code on each item in a list (or any other\n",
        "*iterable* object - Strings and dictionaries are iterable too!).\n",
        "\n",
        "- Looping makes data processing extremely efficient!\n",
        "- In the last section, \"Files\" we will use a for-loop to read a file line-by-line."
      ]
    },
    {
      "cell_type": "code",
      "metadata": {
        "id": "BDc0gBpN3fSP"
      },
      "source": [
        "# Let's create a list to iterate over\n",
        "places = [\n",
        "    \"zoo\",\n",
        "    \"shops\",\n",
        "    \"cinema\",\n",
        "    \"library\",\n",
        "]\n",
        "\n",
        "# Here, the subject of the loop has been named \"place\", but you can name it\n",
        "# anything that makes sense. In this loop we iterate over \"places\", passing\n",
        "# each \"place\" into a print statement:\n",
        "\n",
        "for place in places:\n",
        "    # For each place in the list of places, do this with the place:\n",
        "    print(f\"Let's go to the {place}\")"
      ],
      "execution_count": null,
      "outputs": []
    },
    {
      "cell_type": "markdown",
      "metadata": {
        "id": "gGOu5kz13qAF"
      },
      "source": [
        "Next we introduce two new keywords: `continue` and `break`\n",
        "We can use them to control the flow of logic by *skipping* specific items and\n",
        "*terminating* the loop early."
      ]
    },
    {
      "cell_type": "code",
      "metadata": {
        "id": "vKj09RgD3yJl"
      },
      "source": [
        "numbers = [1, 2, 3, 4, 5, 6, 7, 8, 9]\n",
        "\n",
        "for n in numbers:\n",
        "    if n == 5:\n",
        "        # skip this iteration\n",
        "        continue\n",
        "    print(f\"n = {n}\")\n",
        "    if n > 7:\n",
        "        # \"break\" (terminate) the loop here:\n",
        "        print(f\"n is greater than 7!\")\n",
        "        print(\"I'm breaking the loop here!\")\n",
        "        break"
      ],
      "execution_count": null,
      "outputs": []
    },
    {
      "cell_type": "markdown",
      "metadata": {
        "id": "8C1I-htG4rN1"
      },
      "source": [
        "Cool, we are now starting to piece together what we've learnt!\n",
        "\n",
        "Let's sprinkle in a little more of our knowledge to this code block. This looks a little more crazy, but it's all stuff that we've covered before!"
      ]
    },
    {
      "cell_type": "code",
      "metadata": {
        "id": "u6ZliXZs48fY"
      },
      "source": [
        "i = 0\n",
        "numbers = [1, 2, 3, 4, 5, 6, 7, 8, 9]\n",
        "\n",
        "for n in numbers:\n",
        "    if i == 5:\n",
        "        # skip the rest of the block for this iteration:\n",
        "        continue\n",
        "    print(f\"Adding {n} to i...\")\n",
        "    i += n\n",
        "    print(f\"i is now {i}\")\n",
        "    if i > 7:\n",
        "        break"
      ],
      "execution_count": null,
      "outputs": []
    },
    {
      "cell_type": "markdown",
      "metadata": {
        "id": "X3zIjKsH5I53"
      },
      "source": [
        "It's time to introduce another Python built-in function!\n",
        "\n",
        "- `Enumerate()` can be used to keep track of the iteration number in a `for` loop.\n",
        "- We can use `i` to access the current loop number, starting at zero\n",
        "\n",
        "What we're doing here is a tiny bit more complex - in this case the iterator returns *two* items at a time!"
      ]
    },
    {
      "cell_type": "code",
      "metadata": {
        "id": "uxJnmKmi5Sdv"
      },
      "source": [
        "# Let's create a list to iterate over\n",
        "places = [\n",
        "    \"zoo\",\n",
        "    \"shops\",\n",
        "    \"cinema\",\n",
        "    \"library\",\n",
        "]\n",
        "\n",
        "for i, place in enumerate(places):\n",
        "    print(f\"Place {i}) {place}\")"
      ],
      "execution_count": null,
      "outputs": []
    },
    {
      "cell_type": "markdown",
      "metadata": {
        "id": "OKT4Cya03FC_"
      },
      "source": [
        "<br><br><br>\n",
        "\n",
        "# Files\n",
        "---\n",
        "\n",
        "<br>\n",
        "\n",
        "Ok, we now have the basic components of Python programming:\n",
        "\n",
        "- Syntax\n",
        "- Data structures\n",
        "- Expressions\n",
        "- Logic\n",
        "\n",
        "So far we have only used data that was defined in our code.\n",
        "Of course, this is almost never the case in real life! Data is usually stored in files.\n",
        "\n",
        "<br>\n",
        "\n",
        "> Python is **totally agnostic** to file naming - if a file contains text, Python will read it the exact same, whether it's `data.txt`, `data.csv` or `data.tab`. Python can also read in binary files like `data.xlsx`, but this requires special libraries to be imported (see `pandas` - the Python data analysis library). In this tutorial, we will stick to regular text files."
      ]
    },
    {
      "cell_type": "markdown",
      "metadata": {
        "id": "CpNteWE1per2"
      },
      "source": [
        "<br>\n",
        "\n",
        "## Reading data from files\n",
        "\n",
        "---"
      ]
    },
    {
      "cell_type": "code",
      "metadata": {
        "id": "NTgDXa7-3H44"
      },
      "source": [
        "# Let's download some data to play with\n",
        "# (Don't worry, this is Colaboratory magic, not regular Python code!)\n",
        "\n",
        "!wget https://raw.githubusercontent.com/neoformit/python_tutorial/55057f5fe4ff753ccaa60c2fb5883800d67e60d6/data/weights.txt\n",
        "!wget https://raw.githubusercontent.com/neoformit/python_tutorial/55057f5fe4ff753ccaa60c2fb5883800d67e60d6/data/genes.fas\n",
        "\n",
        "print(\"\\n\\nNow refresh your files panel, on the left!\")"
      ],
      "execution_count": null,
      "outputs": []
    },
    {
      "cell_type": "markdown",
      "metadata": {
        "id": "WVvPN7L8kuVF"
      },
      "source": [
        "We will now read in a file and create a Python object from it. The simplest\n",
        "way to a read in file in Python is to create one long String from the file content. We can then use some familiar String methods to break down the content and make sense of it."
      ]
    },
    {
      "cell_type": "code",
      "metadata": {
        "id": "zrTDy6a5kc02"
      },
      "source": [
        "# Pass a file path to open() to return a file \"handle\"\n",
        "file = open(\"weights.txt\")       # Opens in \"read only\" mode by default\n",
        "\n",
        "print(\"'file' is just a file handle. We haven't read any content yet:\")\n",
        "print(file)\n",
        "print()\n",
        "\n",
        "content = file.read()            # Read the contents as a large String\n",
        "\n",
        "# Try and remember to close files when you're finished with them!\n",
        "# Lots of open files can clog up the computer's memory and will prevent other\n",
        "# programs from opening those files.\n",
        "file.close()"
      ],
      "execution_count": null,
      "outputs": []
    },
    {
      "cell_type": "code",
      "metadata": {
        "colab": {
          "base_uri": "https://localhost:8080/"
        },
        "id": "PH24_zLjnluy",
        "outputId": "63e4a57c-250a-4576-df9e-1410e84687c3"
      },
      "source": [
        "# We still don't know what's in the file - or how big it is!\n",
        "# So how big is it?\n",
        "\n",
        "# Remember - 'content' is just a String\n",
        "#          - newline character = '\\n'\n",
        "\n",
        "lines = content.split('\\n')\n",
        "line_count = len(lines)\n",
        "character_count = len(content)\n",
        "\n",
        "print(f\"The file has a length of {character_count} characters and {line_count} lines\")"
      ],
      "execution_count": 10,
      "outputs": [
        {
          "output_type": "stream",
          "text": [
            "The file has a length of 24427 characters and 5000 lines\n"
          ],
          "name": "stdout"
        }
      ]
    },
    {
      "cell_type": "markdown",
      "metadata": {
        "id": "OvLpsy-foiE6"
      },
      "source": [
        "Jeez, I'm glad we didn't print out the whole thing!\n",
        "\n",
        "We can still have a glance at it though:"
      ]
    },
    {
      "cell_type": "code",
      "metadata": {
        "id": "f---CJE_osek"
      },
      "source": [
        "# Use slicing to print the first 10 lines\n",
        "print(lines[:10])"
      ],
      "execution_count": null,
      "outputs": []
    },
    {
      "cell_type": "code",
      "metadata": {
        "id": "F00tKI4gp1rk"
      },
      "source": [
        "# We can use one of our String methods to print that nicely\n",
        "text = '\\n'.join(lines[:10])\n",
        "print(text)"
      ],
      "execution_count": null,
      "outputs": []
    },
    {
      "cell_type": "code",
      "metadata": {
        "id": "U6jiOwJpqbX4"
      },
      "source": [
        "# We can also use a loop to add more information\n",
        "for i, line in enumerate(lines):\n",
        "    print(f\"Line {i} | {line}\")\n",
        "    if i == 9:\n",
        "        # Again, we only want to print 10 lines!\n",
        "        break"
      ],
      "execution_count": null,
      "outputs": []
    },
    {
      "cell_type": "markdown",
      "metadata": {
        "id": "nqGpDKY4q1uN"
      },
      "source": [
        "Okay, so it looks the file is a large series of numbers. However, we will have to convert them to numbers before we can do any maths with them!"
      ]
    },
    {
      "cell_type": "code",
      "metadata": {
        "id": "mdqUcCRXq_kw"
      },
      "source": [
        "# Python will complain when we try this!\n",
        "lines[0] + 5"
      ],
      "execution_count": null,
      "outputs": []
    },
    {
      "cell_type": "code",
      "metadata": {
        "id": "vhNhZU5KrQGn"
      },
      "source": [
        "# So we have a list of 5000 Strings... let's turn them into integers!\n",
        "weights = []\n",
        "\n",
        "for line in lines:\n",
        "    n = int(line)              # Convert the String number to an int\n",
        "    weights.append(n)          # Append the number to our new list\n",
        "\n",
        "# Now we have a list of numbers - much more useful!\n",
        "\n",
        "# Let's find out something about this data\n",
        "print(f\"The highest weight is {max(weights)}\")\n",
        "print(f\"The lowest weight is {min(weights)}\")\n",
        "print()\n",
        "\n",
        "# Let's sort the weights from low to high\n",
        "weights.sort()\n",
        "\n",
        "print(f\"The five lowest weights are {weights[:5]}\")\n",
        "print(f\"The ten highest weights are {weights[-10:]}\")"
      ],
      "execution_count": null,
      "outputs": []
    },
    {
      "cell_type": "markdown",
      "metadata": {
        "id": "Zvo69jOE1JUA"
      },
      "source": [
        "So what are the weights that we're looking at?\n",
        "\n",
        "These are the weights of fish, as recorded by fisherman in upstate New York. Being Americans, they recorded the weight of these fish in ounces. How annoying!\n",
        "\n",
        "Let's fix this hot mess and convert them to kilograms. We could write a `for` loop to do this, but some new Python syntax will speed things up a lot. "
      ]
    },
    {
      "cell_type": "code",
      "metadata": {
        "id": "o39pVCb004E_"
      },
      "source": [
        "# Kilograms are much bigger than ounces\n",
        "oz_to_kg = 0.0283495\n",
        "\n",
        "# We will use some new syntax that allows us to filter and modify lists\n",
        "# very efficiently: List comprehension!\n",
        "\n",
        "# List comps are confusing at first, but they have a very routine structure.\n",
        "# Once you learn this structure, they are quick and easy to build!\n",
        "\n",
        "# This is the basic structure. It returns the list items unchanged.\n",
        "ounces = [x for x in weights]  # Return 'x' for every 'x' in 'weights'\n",
        "\n",
        "# We can add a simple expression to modify the items as they are returned\n",
        "# This is the same structure we used before, but it's easier to read over\n",
        "# multiple lines!\n",
        "kilos = [\n",
        "    x * oz_to_kg      # multiply 'x' by our conversion factor\n",
        "    for x in weights  # for every 'x' in 'weights'\n",
        "]\n",
        "\n",
        "# The list order is unchanged, so the max weight should also be the last\n",
        "print(f\"Max weight:  {max(kilos)} kg\")\n",
        "print(f\"Last weight: {kilos[-1]} kg\")"
      ],
      "execution_count": null,
      "outputs": []
    },
    {
      "cell_type": "markdown",
      "metadata": {
        "id": "EIBFvoso3-sW"
      },
      "source": [
        "Hmmm... far too many decimal places!\n",
        "\n",
        "Let's use the `round()` function to round the numbers to one decimal place. Much better!"
      ]
    },
    {
      "cell_type": "code",
      "metadata": {
        "id": "rFLCUTcZ3cl5"
      },
      "source": [
        "# The list comp structure is often easier to read over multiple lines!\n",
        "\n",
        "kg_1dp = [\n",
        "    round(x, 1)     # round 'x' to one DP\n",
        "    for x in kilos  # for every 'x' in 'kilos'\n",
        "]\n",
        "\n",
        "print(f\"Max weight:  {max(kg_1dp)} kg\")"
      ],
      "execution_count": null,
      "outputs": []
    },
    {
      "cell_type": "markdown",
      "metadata": {
        "id": "wN9rjlNkz47U"
      },
      "source": [
        "<br>\n",
        "\n",
        "## Writing data to files\n",
        "---\n",
        "\n",
        "In order to save data created in our code, we need to write it to file.\n",
        "\n",
        "In order to write data, you must open a file in write mode (`'w'`).\n",
        "\n",
        "<br>\n",
        "\n",
        "> **CAUTION** Opening a file in write mode will delete the content if the file already exists. This is a very easy and silly way to delete files accidentally! Be VERY sure that the file doesn't exist before creating, as Python will give you no warning whatsoever!\n",
        "\n",
        "<br>"
      ]
    },
    {
      "cell_type": "code",
      "metadata": {
        "id": "kcJtqUtR59-S"
      },
      "source": [
        "# We must explicitly open in \"write\" mode by passing 'w'\n",
        "# This will create a new file, or overwrite an existing file\n",
        "\n",
        "filename = 'weight_kg.csv'\n",
        "file = open(filename, 'w')\n",
        "\n",
        "# Remember, we have a list of ints now. We need to turn them back into Strings\n",
        "# in order to write them to file! While we are at it, we can also include some\n",
        "# newline characters, so that we are writing one number per line.\n",
        "\n",
        "print(f\"Writing data to {filename}...\")\n",
        "\n",
        "for n in kg_1dp:\n",
        "    line = str(n) + '\\n'\n",
        "    file.write(line)\n",
        "\n",
        "# Again, remember to close files when they are no longer needed!\n",
        "file.close()\n",
        "\n",
        "print(\"Done\")\n",
        "\n",
        "# Now go and check out your new file!\n",
        "# Go to the file panel on the left, and double-click on the new file icon"
      ],
      "execution_count": null,
      "outputs": []
    },
    {
      "cell_type": "markdown",
      "metadata": {
        "id": "H7kWbQ8D7rSa"
      },
      "source": [
        "<br>\n",
        "\n",
        "## A tiny challenge\n",
        "---\n",
        "\n",
        "We mentioned before that you can also use list comprehension to *filter* lists.\n",
        "\n",
        "- Can you filter the list `kilos` to include only weights above 20kg?\n",
        "- Hint: you just need to add one `if` statement to the list comp that can be evaluated as `True` or `False`\n",
        "- For a bonus point, write the filtered data to a new file called `kg_over_20.csv`\n",
        "\n",
        "<br>"
      ]
    },
    {
      "cell_type": "code",
      "metadata": {
        "id": "9S3nAWid8VpO"
      },
      "source": [
        "# Add a line to filter out certain numbers\n",
        "\n",
        "filtered_kgs = [\n",
        "    x\n",
        "    for x in kilos\n",
        "    # add a statement on this line, to evaluate 'x'\n",
        "]"
      ],
      "execution_count": 33,
      "outputs": []
    },
    {
      "cell_type": "markdown",
      "metadata": {
        "id": "OJW8yNg4qkOl"
      },
      "source": [
        "<br><br><br>\n",
        "\n",
        "# Final challenge\n",
        "---\n",
        "\n",
        "<br>\n",
        "\n",
        "So, you've learnt the basic components of programming in Python:\n",
        "\n",
        "- Create variables\n",
        "- Data structures\n",
        "- Call built in functions\n",
        "- Call object methods\n",
        "- Logical flow and control\n",
        "- Reading and writing files\n",
        "\n",
        "<br>\n",
        "\n",
        "So far you've been given a handful of simple challenges to test your knowledge. We're going to leave you with a takeaway challenge, that's a little bit harder but actually practical!\n",
        "\n",
        "<br>\n",
        "\n",
        "You'll notice that we downloaded a two files earlier - we haven't touched `genes.fas` yet. This is a `FASTA` formatted sequence file containing cDNA sequences for some crustacean genes. Have a look at it by double-clicking the file icon in the panel on the left.\n",
        "\n",
        "<br>\n",
        "\n",
        "## Tasks\n",
        "\n",
        "- Read in the file `genes.fas`\n",
        "- Create a dictionary of DNA sequences, indexed by sequence ID\n",
        "- Print the ID of the longest cDNA sequence\n",
        "- Iterate over the dictionary, collecting only genes containing the motif `TGACAC`.\n",
        "- As you collect matching genes, add them to a new dictionary called `matches`\n",
        "- Write `matches` to a new file in `FASTA` format\n",
        "\n",
        "<br>\n",
        "\n",
        "**Hints**\n",
        "> Use `print()` statements to check your variables as the code develops, so you can spot and fix mistakes\n",
        "\n",
        "> Remember, in `FASTA` format, a line beginning with `>` indicates the title line of a new sequence. How could you split the file content to collect these sequences?\n",
        "\n"
      ]
    },
    {
      "cell_type": "code",
      "metadata": {
        "id": "bgKiqAOrAzi_"
      },
      "source": [
        "# Write your code here.\n",
        "# You may find it easier to separate into a series of cells.\n",
        "\n",
        "MOTIF = 'TGACAC'\n",
        "filename = 'genes.fas'"
      ],
      "execution_count": null,
      "outputs": []
    }
  ]
}
